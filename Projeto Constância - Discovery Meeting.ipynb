{
 "cells": [
  {
   "cell_type": "markdown",
   "metadata": {},
   "source": [
    "# CONSTANCIA - Discovery Meeting\n",
    "Alunas Beatriz Jesus e Helena Bianchessi\n",
    "\n",
    "Gestores Marcello Paixão [e-mail](mailto:mpaixao@constanciainvest.com.br) e Arno Veldhorst [e-mail](mailto:aveldhorst@constanciainvest.com.br)\n"
   ]
  },
  {
   "cell_type": "markdown",
   "metadata": {},
   "source": [
    "## Projetos Constância\n",
    "\n",
    "### <font color=\"orange\"> 01 - Identificação Ciclos Econômicos </font>\n",
    "\n",
    "Inflação e Crescimento PIB de Brasil e EUA\n",
    "*(em EUA, dados hi-freq em FRED)*\n",
    "\n",
    "Dados históricos + expectativas\n",
    "\n",
    "Relação dos dados com preços dos ativos\n",
    "\n",
    "Teste de períodos históricos a partir de artigos para começar o projeto, partições temporais *(ajustar parâmetros para não ter ciclos relevantes de curtíssimo prazo)*\n",
    "\n",
    "Paper Antti Ilmanen (AQR - Chicago) 100 years of momentum / risk premium\n",
    "\n",
    "\n",
    "### 02 - Teste analistas Bloomberg \n",
    "Capturar análises para estudar companhias\n",
    "\n",
    "Testes descritivos - erros, acertos, volatilidade (peer pressure)\n",
    "\n",
    "Estudo de caso sobre impacto de releases inesperados - qual a janela?\n",
    "\n",
    "\n",
    "### 03 - Automatização Debêntures\n",
    "Para o fundo de renda fixa\n",
    "\n",
    "Debêntures negociados\n",
    "\n",
    "Relatório final p/ cada 15 min\n",
    "\n",
    "Codificação e automatização de relatório comparativo\n",
    "\n",
    "Volume, comparação ANBIMA, cálculo Spread"
   ]
  },
  {
   "cell_type": "markdown",
   "metadata": {},
   "source": [
    "## Referências bibliográficas <font color=\"orange\"> Projeto 01 </font>\n",
    "\n",
    "**Material Bibliográfico:**\n",
    "\n",
    "- Paper \"Ciclos Econômicos Brasileiros\" (modelo MS-DIR) [aqui](http://www.scielo.br/pdf/ecoa/v18n1/a04v18n1.pdf)\n",
    "\n",
    "- Tese \"Mudanças de Regime\" (pg. 80) [aqui](https://www.teses.usp.br/teses/disponiveis/12/12138/tde-29012002-230353/publico/regimes.pdf)\n",
    "\n",
    "- Paper \"Brazilian Growth Cycles\" (80~96) [aqui](http://www.scielo.br/pdf/rbe/v56n1/a03v56n1.pdf)\n",
    "\n",
    "**Ilmanen:**\n",
    "- \"Expected Returns, an Investor´s Guide to Harvesting Market Rewards\" (pg. 461)\n",
    "- \"Factor Premia and Factor Timing:   A Century of Evidence\" (RP_ Timing)\n",
    "- \"Factor-Based Investing\" (ABN_Ilmanen[305])\n",
    "\n",
    "**Modelo MS em Python:**\n",
    "\n",
    "- Notebook [aqui](https://www.statsmodels.org/dev/examples/notebooks/generated/markov_autoregression.html)\n",
    "\n",
    "- GitHub [aqui](https://github.com/timsetsfire/markov-switching)\n",
    "\n",
    "\n",
    "**Dados:**\n",
    "\n",
    "- Gross Domestic Product in FRED: GDP  [aqui](https://fred.stlouisfed.org/series/GDP)\n",
    "\n",
    "- Potencial GDP in FRED: GDPPOT [aqui](https://fred.stlouisfed.org/series/GDPPOT)\n",
    "\n",
    "- Séries brasileiras (PIB, IPCA, forecasts) [aqui](https://www3.bcb.gov.br/expectativas/publico/consulta/serieestatisticas)\n"
   ]
  }
 ],
 "metadata": {
  "kernelspec": {
   "display_name": "Python 3",
   "language": "python",
   "name": "python3"
  },
  "language_info": {
   "codemirror_mode": {
    "name": "ipython",
    "version": 3
   },
   "file_extension": ".py",
   "mimetype": "text/x-python",
   "name": "python",
   "nbconvert_exporter": "python",
   "pygments_lexer": "ipython3",
   "version": "3.7.3"
  }
 },
 "nbformat": 4,
 "nbformat_minor": 2
}
